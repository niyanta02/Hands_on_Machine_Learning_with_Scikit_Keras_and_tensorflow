{
  "nbformat": 4,
  "nbformat_minor": 0,
  "metadata": {
    "colab": {
      "provenance": [],
      "authorship_tag": "ABX9TyMFrDTod8L9d9DXQictPJVn",
      "include_colab_link": true
    },
    "kernelspec": {
      "name": "python3",
      "display_name": "Python 3"
    },
    "language_info": {
      "name": "python"
    }
  },
  "cells": [
    {
      "cell_type": "markdown",
      "metadata": {
        "id": "view-in-github",
        "colab_type": "text"
      },
      "source": [
        "<a href=\"https://colab.research.google.com/github/niyanta02/Hands_on_Machine_Learning_with_Scikit_Keras_and_tensorflow/blob/main/csv_important_notes.ipynb\" target=\"_parent\"><img src=\"https://colab.research.google.com/assets/colab-badge.svg\" alt=\"Open In Colab\"/></a>"
      ]
    },
    {
      "cell_type": "code",
      "execution_count": null,
      "metadata": {
        "id": "KV1TbC_oIe7D"
      },
      "outputs": [],
      "source": [
        "import pandas as pd"
      ]
    },
    {
      "cell_type": "code",
      "source": [
        "#opening a local csv file\n",
        "df = pd.read_csv('filename.csv')"
      ],
      "metadata": {
        "id": "A30PqhwnJA8s"
      },
      "execution_count": null,
      "outputs": []
    },
    {
      "cell_type": "code",
      "source": [
        "#opening a csv file from an URL/server\n",
        "import requests\n",
        "from io import StringIO\n",
        "\n",
        "url = \"....csv\"\n",
        "headers = {\"User-Agent\": \"Mozilla/5.0 (Macintosh; Intel Mac OS X 10.14; rv:66.0) Gecko/20100101 Firefox/66.0\"}\n",
        "req = requests.get(url, headers=headers)\n",
        "data = StringIO(req.text)\n",
        "\n",
        "pd.read_csv(data)\n",
        "\n"
      ],
      "metadata": {
        "id": "igIspdKQJA_W"
      },
      "execution_count": null,
      "outputs": []
    },
    {
      "cell_type": "code",
      "source": [
        "#sep parameter if tsv (tab seperated values)\n",
        "\n",
        "pd.read_csv(' ', sep='\\t')\n",
        "\n",
        "#if columns name is not mentioned in dataset pass name parameters\n",
        "pd.read_csv(' ', sep='\\t', name=['1','2','3'])"
      ],
      "metadata": {
        "id": "aeISJIcSJBCa"
      },
      "execution_count": null,
      "outputs": []
    },
    {
      "cell_type": "code",
      "source": [
        "#index_col parameter\n",
        "## if you don't want default index column\n",
        "\n",
        "pd.read_csv('finename.csv', index_col='column_name_you_want_to _your_index')"
      ],
      "metadata": {
        "id": "C-58cl5qJBFU"
      },
      "execution_count": null,
      "outputs": []
    },
    {
      "cell_type": "code",
      "source": [
        "#header parameter\n",
        "pd.read_csv('finename.csv', header=1)"
      ],
      "metadata": {
        "id": "2FsoFhTfJBIZ"
      },
      "execution_count": null,
      "outputs": []
    },
    {
      "cell_type": "code",
      "source": [
        "#use_cols parameter --> only using some columns from dataframe\n",
        "pd.read_csv('finename.csv', use_cols=['column1','column2','column3'])"
      ],
      "metadata": {
        "id": "5c18W_E3JBLb"
      },
      "execution_count": null,
      "outputs": []
    },
    {
      "cell_type": "code",
      "source": [
        "#squeeze parameters --- >  dataframe -> series (only 1 column)\n",
        "\n",
        "pd.read_csv('finename.csv', use_cols=['column1'],squeeze=True)"
      ],
      "metadata": {
        "id": "1xAgZe3_JBO0"
      },
      "execution_count": null,
      "outputs": []
    },
    {
      "cell_type": "code",
      "source": [
        "#Skip rows/nrows parameter\n",
        "pd.read_csv('finename.csv', skiprows=[0,2])"
      ],
      "metadata": {
        "id": "WKBTHXOwJBR-"
      },
      "execution_count": null,
      "outputs": []
    },
    {
      "cell_type": "code",
      "source": [
        "#encoding parameter\n",
        "pd.read_csv('finename.csv', encoding='')"
      ],
      "metadata": {
        "id": "-AkfrnPPJBUx"
      },
      "execution_count": null,
      "outputs": []
    },
    {
      "cell_type": "code",
      "source": [
        "#skip bad lines --> parser error\n",
        "pd.read_csv('finename.csv', error_bad_lines=True)\n"
      ],
      "metadata": {
        "id": "W9-MgdPfJBX0"
      },
      "execution_count": null,
      "outputs": []
    },
    {
      "cell_type": "code",
      "source": [
        "#dtypes parameter -> values in column is float - > if you want to change it to interger\n",
        "pd.read_csv('finename.csv', dtype={'columnname':int})\n"
      ],
      "metadata": {
        "id": "dW3FNO2dJBa7"
      },
      "execution_count": null,
      "outputs": []
    },
    {
      "cell_type": "code",
      "source": [
        "#handling dates - > object to dates\n",
        "pd.read_csv('filename.csv', parse_dates=['columnname'])"
      ],
      "metadata": {
        "id": "aAS7EAK-JBd7"
      },
      "execution_count": null,
      "outputs": []
    },
    {
      "cell_type": "code",
      "source": [
        "#convertors\n",
        "pd.read_csv('filename.csv', convertors=('column1':rename))"
      ],
      "metadata": {
        "id": "4hYychqFJBhF"
      },
      "execution_count": null,
      "outputs": []
    },
    {
      "cell_type": "code",
      "source": [
        "#na_values_parameters --> missing values\n",
        "pd.read_csv('filename.csv', na_values=['nan','-','null']"
      ],
      "metadata": {
        "id": "PF72BzoVJBkA"
      },
      "execution_count": null,
      "outputs": []
    },
    {
      "cell_type": "code",
      "source": [
        "#loading a huge dataset in chunks\n",
        "df1 = pd.read_csv('filename.csv' , chunksize=5000)\n",
        "\n",
        "for chunks in df:\n",
        "  print(chunk.shape)"
      ],
      "metadata": {
        "id": "cvbfqWCDM2Md"
      },
      "execution_count": null,
      "outputs": []
    },
    {
      "cell_type": "code",
      "source": [],
      "metadata": {
        "id": "hmScMzrWM2PQ"
      },
      "execution_count": null,
      "outputs": []
    },
    {
      "cell_type": "code",
      "source": [],
      "metadata": {
        "id": "x0VAtbkzM2SV"
      },
      "execution_count": null,
      "outputs": []
    },
    {
      "cell_type": "code",
      "source": [],
      "metadata": {
        "id": "kcFOFqREM2Uw"
      },
      "execution_count": null,
      "outputs": []
    },
    {
      "cell_type": "code",
      "source": [],
      "metadata": {
        "id": "IAJmkQreM2YO"
      },
      "execution_count": null,
      "outputs": []
    },
    {
      "cell_type": "code",
      "source": [],
      "metadata": {
        "id": "tKaVyLOgJBm8"
      },
      "execution_count": null,
      "outputs": []
    },
    {
      "cell_type": "code",
      "source": [],
      "metadata": {
        "id": "7dfKLyg-JBpx"
      },
      "execution_count": null,
      "outputs": []
    }
  ]
}